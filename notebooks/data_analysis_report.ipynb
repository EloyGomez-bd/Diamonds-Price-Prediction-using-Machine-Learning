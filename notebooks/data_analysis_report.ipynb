{
 "cells": [
  {
   "cell_type": "code",
   "execution_count": 1,
   "metadata": {},
   "outputs": [],
   "source": [
    "# Import libraries\n",
    "\n",
    "import pandas as pd\n",
    "import numpy as np\n",
    "import matplotlib.pyplot as plt\n",
    "import plotly.express as px\n",
    "import cufflinks as cf\n",
    "import seaborn as sns"
   ]
  },
  {
   "cell_type": "code",
   "execution_count": 2,
   "metadata": {},
   "outputs": [
    {
     "data": {
      "text/html": [
       "        <script type=\"text/javascript\">\n",
       "        window.PlotlyConfig = {MathJaxConfig: 'local'};\n",
       "        if (window.MathJax) {MathJax.Hub.Config({SVG: {font: \"STIX-Web\"}});}\n",
       "        if (typeof require !== 'undefined') {\n",
       "        require.undef(\"plotly\");\n",
       "        requirejs.config({\n",
       "            paths: {\n",
       "                'plotly': ['https://cdn.plot.ly/plotly-latest.min']\n",
       "            }\n",
       "        });\n",
       "        require(['plotly'], function(Plotly) {\n",
       "            window._Plotly = Plotly;\n",
       "        });\n",
       "        }\n",
       "        </script>\n",
       "        "
      ]
     },
     "metadata": {},
     "output_type": "display_data"
    }
   ],
   "source": [
    "cf.go_offline()"
   ]
  },
  {
   "cell_type": "code",
   "execution_count": 3,
   "metadata": {},
   "outputs": [
    {
     "data": {
      "text/html": [
       "<div>\n",
       "<style scoped>\n",
       "    .dataframe tbody tr th:only-of-type {\n",
       "        vertical-align: middle;\n",
       "    }\n",
       "\n",
       "    .dataframe tbody tr th {\n",
       "        vertical-align: top;\n",
       "    }\n",
       "\n",
       "    .dataframe thead th {\n",
       "        text-align: right;\n",
       "    }\n",
       "</style>\n",
       "<table border=\"1\" class=\"dataframe\">\n",
       "  <thead>\n",
       "    <tr style=\"text-align: right;\">\n",
       "      <th></th>\n",
       "      <th>carat</th>\n",
       "      <th>cut</th>\n",
       "      <th>color</th>\n",
       "      <th>clarity</th>\n",
       "      <th>depth</th>\n",
       "      <th>table</th>\n",
       "      <th>price</th>\n",
       "      <th>x</th>\n",
       "      <th>y</th>\n",
       "      <th>z</th>\n",
       "    </tr>\n",
       "  </thead>\n",
       "  <tbody>\n",
       "    <tr>\n",
       "      <th>0</th>\n",
       "      <td>1.21</td>\n",
       "      <td>Premium</td>\n",
       "      <td>J</td>\n",
       "      <td>VS2</td>\n",
       "      <td>62.4</td>\n",
       "      <td>58.0</td>\n",
       "      <td>4268</td>\n",
       "      <td>6.83</td>\n",
       "      <td>6.79</td>\n",
       "      <td>4.25</td>\n",
       "    </tr>\n",
       "    <tr>\n",
       "      <th>1</th>\n",
       "      <td>0.32</td>\n",
       "      <td>Very Good</td>\n",
       "      <td>H</td>\n",
       "      <td>VS2</td>\n",
       "      <td>63.0</td>\n",
       "      <td>57.0</td>\n",
       "      <td>505</td>\n",
       "      <td>4.35</td>\n",
       "      <td>4.38</td>\n",
       "      <td>2.75</td>\n",
       "    </tr>\n",
       "    <tr>\n",
       "      <th>2</th>\n",
       "      <td>0.71</td>\n",
       "      <td>Fair</td>\n",
       "      <td>G</td>\n",
       "      <td>VS1</td>\n",
       "      <td>65.5</td>\n",
       "      <td>55.0</td>\n",
       "      <td>2686</td>\n",
       "      <td>5.62</td>\n",
       "      <td>5.53</td>\n",
       "      <td>3.65</td>\n",
       "    </tr>\n",
       "    <tr>\n",
       "      <th>3</th>\n",
       "      <td>0.41</td>\n",
       "      <td>Good</td>\n",
       "      <td>D</td>\n",
       "      <td>SI1</td>\n",
       "      <td>63.8</td>\n",
       "      <td>56.0</td>\n",
       "      <td>738</td>\n",
       "      <td>4.68</td>\n",
       "      <td>4.72</td>\n",
       "      <td>3.00</td>\n",
       "    </tr>\n",
       "    <tr>\n",
       "      <th>4</th>\n",
       "      <td>1.02</td>\n",
       "      <td>Ideal</td>\n",
       "      <td>G</td>\n",
       "      <td>SI1</td>\n",
       "      <td>60.5</td>\n",
       "      <td>59.0</td>\n",
       "      <td>4882</td>\n",
       "      <td>6.55</td>\n",
       "      <td>6.51</td>\n",
       "      <td>3.95</td>\n",
       "    </tr>\n",
       "    <tr>\n",
       "      <th>...</th>\n",
       "      <td>...</td>\n",
       "      <td>...</td>\n",
       "      <td>...</td>\n",
       "      <td>...</td>\n",
       "      <td>...</td>\n",
       "      <td>...</td>\n",
       "      <td>...</td>\n",
       "      <td>...</td>\n",
       "      <td>...</td>\n",
       "      <td>...</td>\n",
       "    </tr>\n",
       "    <tr>\n",
       "      <th>40450</th>\n",
       "      <td>1.34</td>\n",
       "      <td>Ideal</td>\n",
       "      <td>G</td>\n",
       "      <td>VS1</td>\n",
       "      <td>62.7</td>\n",
       "      <td>57.0</td>\n",
       "      <td>10070</td>\n",
       "      <td>7.10</td>\n",
       "      <td>7.04</td>\n",
       "      <td>4.43</td>\n",
       "    </tr>\n",
       "    <tr>\n",
       "      <th>40451</th>\n",
       "      <td>2.02</td>\n",
       "      <td>Good</td>\n",
       "      <td>F</td>\n",
       "      <td>SI2</td>\n",
       "      <td>57.1</td>\n",
       "      <td>60.0</td>\n",
       "      <td>12615</td>\n",
       "      <td>8.31</td>\n",
       "      <td>8.25</td>\n",
       "      <td>4.73</td>\n",
       "    </tr>\n",
       "    <tr>\n",
       "      <th>40452</th>\n",
       "      <td>1.01</td>\n",
       "      <td>Ideal</td>\n",
       "      <td>H</td>\n",
       "      <td>SI1</td>\n",
       "      <td>62.7</td>\n",
       "      <td>56.0</td>\n",
       "      <td>5457</td>\n",
       "      <td>6.37</td>\n",
       "      <td>6.42</td>\n",
       "      <td>4.01</td>\n",
       "    </tr>\n",
       "    <tr>\n",
       "      <th>40453</th>\n",
       "      <td>0.33</td>\n",
       "      <td>Ideal</td>\n",
       "      <td>J</td>\n",
       "      <td>VS1</td>\n",
       "      <td>61.9</td>\n",
       "      <td>54.3</td>\n",
       "      <td>456</td>\n",
       "      <td>4.45</td>\n",
       "      <td>4.47</td>\n",
       "      <td>2.76</td>\n",
       "    </tr>\n",
       "    <tr>\n",
       "      <th>40454</th>\n",
       "      <td>1.24</td>\n",
       "      <td>Ideal</td>\n",
       "      <td>I</td>\n",
       "      <td>SI1</td>\n",
       "      <td>62.0</td>\n",
       "      <td>58.0</td>\n",
       "      <td>6232</td>\n",
       "      <td>6.83</td>\n",
       "      <td>6.88</td>\n",
       "      <td>4.25</td>\n",
       "    </tr>\n",
       "  </tbody>\n",
       "</table>\n",
       "<p>40455 rows × 10 columns</p>\n",
       "</div>"
      ],
      "text/plain": [
       "       carat        cut color clarity  depth  table  price     x     y     z\n",
       "0       1.21    Premium     J     VS2   62.4   58.0   4268  6.83  6.79  4.25\n",
       "1       0.32  Very Good     H     VS2   63.0   57.0    505  4.35  4.38  2.75\n",
       "2       0.71       Fair     G     VS1   65.5   55.0   2686  5.62  5.53  3.65\n",
       "3       0.41       Good     D     SI1   63.8   56.0    738  4.68  4.72  3.00\n",
       "4       1.02      Ideal     G     SI1   60.5   59.0   4882  6.55  6.51  3.95\n",
       "...      ...        ...   ...     ...    ...    ...    ...   ...   ...   ...\n",
       "40450   1.34      Ideal     G     VS1   62.7   57.0  10070  7.10  7.04  4.43\n",
       "40451   2.02       Good     F     SI2   57.1   60.0  12615  8.31  8.25  4.73\n",
       "40452   1.01      Ideal     H     SI1   62.7   56.0   5457  6.37  6.42  4.01\n",
       "40453   0.33      Ideal     J     VS1   61.9   54.3    456  4.45  4.47  2.76\n",
       "40454   1.24      Ideal     I     SI1   62.0   58.0   6232  6.83  6.88  4.25\n",
       "\n",
       "[40455 rows x 10 columns]"
      ]
     },
     "execution_count": 3,
     "metadata": {},
     "output_type": "execute_result"
    }
   ],
   "source": [
    "# Import DataSet\n",
    "\n",
    "df = pd.read_csv('../data/diamonds_train.csv')\n",
    "df"
   ]
  },
  {
   "cell_type": "markdown",
   "metadata": {},
   "source": [
    "# Challenge 1: Exploratory Data Visualization Charts and Summary Statistics"
   ]
  },
  {
   "cell_type": "code",
   "execution_count": 4,
   "metadata": {},
   "outputs": [
    {
     "data": {
      "text/plain": [
       "carat      float64\n",
       "cut         object\n",
       "color       object\n",
       "clarity     object\n",
       "depth      float64\n",
       "table      float64\n",
       "price        int64\n",
       "x          float64\n",
       "y          float64\n",
       "z          float64\n",
       "dtype: object"
      ]
     },
     "execution_count": 4,
     "metadata": {},
     "output_type": "execute_result"
    }
   ],
   "source": [
    "# To check the types, use dtypes\n",
    "\n",
    "df.dtypes"
   ]
  },
  {
   "cell_type": "code",
   "execution_count": 5,
   "metadata": {},
   "outputs": [
    {
     "data": {
      "text/html": [
       "<div>\n",
       "<style scoped>\n",
       "    .dataframe tbody tr th:only-of-type {\n",
       "        vertical-align: middle;\n",
       "    }\n",
       "\n",
       "    .dataframe tbody tr th {\n",
       "        vertical-align: top;\n",
       "    }\n",
       "\n",
       "    .dataframe thead th {\n",
       "        text-align: right;\n",
       "    }\n",
       "</style>\n",
       "<table border=\"1\" class=\"dataframe\">\n",
       "  <thead>\n",
       "    <tr style=\"text-align: right;\">\n",
       "      <th></th>\n",
       "      <th>carat</th>\n",
       "      <th>depth</th>\n",
       "      <th>table</th>\n",
       "      <th>price</th>\n",
       "      <th>x</th>\n",
       "      <th>y</th>\n",
       "      <th>z</th>\n",
       "    </tr>\n",
       "  </thead>\n",
       "  <tbody>\n",
       "    <tr>\n",
       "      <th>count</th>\n",
       "      <td>40455.000000</td>\n",
       "      <td>40455.000000</td>\n",
       "      <td>40455.000000</td>\n",
       "      <td>40455.000000</td>\n",
       "      <td>40455.000000</td>\n",
       "      <td>40455.000000</td>\n",
       "      <td>40455.000000</td>\n",
       "    </tr>\n",
       "    <tr>\n",
       "      <th>mean</th>\n",
       "      <td>0.797706</td>\n",
       "      <td>61.752841</td>\n",
       "      <td>57.446133</td>\n",
       "      <td>3928.444469</td>\n",
       "      <td>5.729392</td>\n",
       "      <td>5.732819</td>\n",
       "      <td>3.537154</td>\n",
       "    </tr>\n",
       "    <tr>\n",
       "      <th>std</th>\n",
       "      <td>0.475544</td>\n",
       "      <td>1.431725</td>\n",
       "      <td>2.233535</td>\n",
       "      <td>3992.416147</td>\n",
       "      <td>1.124453</td>\n",
       "      <td>1.146650</td>\n",
       "      <td>0.697062</td>\n",
       "    </tr>\n",
       "    <tr>\n",
       "      <th>min</th>\n",
       "      <td>0.200000</td>\n",
       "      <td>43.000000</td>\n",
       "      <td>43.000000</td>\n",
       "      <td>326.000000</td>\n",
       "      <td>0.000000</td>\n",
       "      <td>0.000000</td>\n",
       "      <td>0.000000</td>\n",
       "    </tr>\n",
       "    <tr>\n",
       "      <th>25%</th>\n",
       "      <td>0.400000</td>\n",
       "      <td>61.000000</td>\n",
       "      <td>56.000000</td>\n",
       "      <td>945.000000</td>\n",
       "      <td>4.710000</td>\n",
       "      <td>4.720000</td>\n",
       "      <td>2.910000</td>\n",
       "    </tr>\n",
       "    <tr>\n",
       "      <th>50%</th>\n",
       "      <td>0.700000</td>\n",
       "      <td>61.800000</td>\n",
       "      <td>57.000000</td>\n",
       "      <td>2397.000000</td>\n",
       "      <td>5.690000</td>\n",
       "      <td>5.710000</td>\n",
       "      <td>3.520000</td>\n",
       "    </tr>\n",
       "    <tr>\n",
       "      <th>75%</th>\n",
       "      <td>1.040000</td>\n",
       "      <td>62.500000</td>\n",
       "      <td>59.000000</td>\n",
       "      <td>5331.000000</td>\n",
       "      <td>6.540000</td>\n",
       "      <td>6.540000</td>\n",
       "      <td>4.035000</td>\n",
       "    </tr>\n",
       "    <tr>\n",
       "      <th>max</th>\n",
       "      <td>4.500000</td>\n",
       "      <td>79.000000</td>\n",
       "      <td>95.000000</td>\n",
       "      <td>18823.000000</td>\n",
       "      <td>10.230000</td>\n",
       "      <td>58.900000</td>\n",
       "      <td>8.060000</td>\n",
       "    </tr>\n",
       "  </tbody>\n",
       "</table>\n",
       "</div>"
      ],
      "text/plain": [
       "              carat         depth         table         price             x  \\\n",
       "count  40455.000000  40455.000000  40455.000000  40455.000000  40455.000000   \n",
       "mean       0.797706     61.752841     57.446133   3928.444469      5.729392   \n",
       "std        0.475544      1.431725      2.233535   3992.416147      1.124453   \n",
       "min        0.200000     43.000000     43.000000    326.000000      0.000000   \n",
       "25%        0.400000     61.000000     56.000000    945.000000      4.710000   \n",
       "50%        0.700000     61.800000     57.000000   2397.000000      5.690000   \n",
       "75%        1.040000     62.500000     59.000000   5331.000000      6.540000   \n",
       "max        4.500000     79.000000     95.000000  18823.000000     10.230000   \n",
       "\n",
       "                  y             z  \n",
       "count  40455.000000  40455.000000  \n",
       "mean       5.732819      3.537154  \n",
       "std        1.146650      0.697062  \n",
       "min        0.000000      0.000000  \n",
       "25%        4.720000      2.910000  \n",
       "50%        5.710000      3.520000  \n",
       "75%        6.540000      4.035000  \n",
       "max       58.900000      8.060000  "
      ]
     },
     "execution_count": 5,
     "metadata": {},
     "output_type": "execute_result"
    }
   ],
   "source": [
    "# To check main statisticals parameters of numerical Columns, use describe function.\n",
    "\n",
    "df.describe()"
   ]
  },
  {
   "cell_type": "code",
   "execution_count": 6,
   "metadata": {},
   "outputs": [
    {
     "data": {
      "text/plain": [
       "carat      0\n",
       "cut        0\n",
       "color      0\n",
       "clarity    0\n",
       "depth      0\n",
       "table      0\n",
       "price      0\n",
       "x          0\n",
       "y          0\n",
       "z          0\n",
       "dtype: int64"
      ]
     },
     "execution_count": 6,
     "metadata": {},
     "output_type": "execute_result"
    }
   ],
   "source": [
    "# Also check if there are null values (it seems there aren't).\n",
    "\n",
    "df.isnull().sum()"
   ]
  },
  {
   "cell_type": "code",
   "execution_count": 7,
   "metadata": {},
   "outputs": [
    {
     "name": "stdout",
     "output_type": "stream",
     "text": [
      "Cut:['Premium' 'Very Good' 'Fair' 'Good' 'Ideal']\n",
      "Color:['J' 'H' 'G' 'D' 'F' 'E' 'I']\n",
      "Clarity:['VS2' 'VS1' 'SI1' 'SI2' 'IF' 'VVS1' 'VVS2' 'I1']\n"
     ]
    }
   ],
   "source": [
    "# Now we check the unique values of categorical Columns (cut, color and clarity).\n",
    "\n",
    "print(f'Cut:{df.cut.unique()}\\nColor:{df.color.unique()}\\nClarity:{df.clarity.unique()}')"
   ]
  },
  {
   "cell_type": "markdown",
   "metadata": {},
   "source": [
    "### Correlation (HeatMap)"
   ]
  },
  {
   "cell_type": "code",
   "execution_count": 8,
   "metadata": {},
   "outputs": [
    {
     "data": {
      "text/plain": [
       "<AxesSubplot:>"
      ]
     },
     "execution_count": 8,
     "metadata": {},
     "output_type": "execute_result"
    },
    {
     "data": {
      "image/png": "[encoded data removed]",
      "text/plain": [
       "<Figure size 792x648 with 2 Axes>"
      ]
     },
     "metadata": {},
     "output_type": "display_data"
    }
   ],
   "source": [
    "# A Heat Map is a useful tool to check which is the correlation between numeric columns in a dataset.\n",
    "\n",
    "sns.set_theme(style=\"white\")\n",
    "\n",
    "# Compute the correlation matrix\n",
    "corr = df.corr()\n",
    "\n",
    "# Generate a mask for the upper triangle\n",
    "mask = np.triu(np.ones_like(corr, dtype=bool))\n",
    "\n",
    "# Set up the matplotlib figure\n",
    "f, ax = plt.subplots(figsize=(11, 9))\n",
    "\n",
    "# Generate a custom diverging colormap\n",
    "cmap = sns.diverging_palette(255, 10, as_cmap=True)\n",
    "\n",
    "# Draw the heatmap with the mask and correct aspect ratio\n",
    "sns.heatmap(corr, mask=mask, cmap=cmap, vmax=.3, center=0,\n",
    "            square=True, linewidths=.5, cbar_kws={\"shrink\": .5})"
   ]
  },
  {
   "cell_type": "markdown",
   "metadata": {},
   "source": [
    "Based on graph above:\n",
    " - Price is highly correlated to 'carat'\n",
    " - Dimesions are also higlhy correlated to price.\n",
    " - Depth is inversely correlated to price.\n",
    "\n",
    "We can visualize these relations between the diamond price and other features, such as **carat** (FYI, diamond carat weight measures how much a diamond weighs; a metric “carat” is defined as 200 milligrams and each carat is subdivided into 100 ‘points.’) or **depth percentage**."
   ]
  },
  {
   "cell_type": "markdown",
   "metadata": {},
   "source": [
    "## 1) Carat"
   ]
  },
  {
   "cell_type": "code",
   "execution_count": null,
   "metadata": {},
   "outputs": [],
   "source": [
    "fig = plt.figure(figsize=(16, 8))\n",
    "ax = sns.lineplot(x='carat', y='price', data=df)"
   ]
  },
  {
   "cell_type": "markdown",
   "metadata": {},
   "source": [
    "It can be seen that carat weight have a notable influence on diamonds prices. "
   ]
  },
  {
   "cell_type": "markdown",
   "metadata": {},
   "source": [
    "## 2) Depth"
   ]
  },
  {
   "cell_type": "code",
   "execution_count": null,
   "metadata": {},
   "outputs": [],
   "source": [
    "fig = plt.figure(figsize=(16, 8))\n",
    "ax = sns.histplot(data=df, x='depth', y='price')"
   ]
  },
  {
   "cell_type": "markdown",
   "metadata": {},
   "source": [
    "On the other hand,a higher diamond's depth percentage doesn't mean a higher price. Graphic above show that 'perfect' depth would be between 60 and 65%. If a cut is too shallow, light will simply pass through the stone and leave through the pavilion (the lower half) without any reflection. On the other hand, a cut that is too deep will have poor sparkle and make the stone appear smaller than other stones of the same carat weight."
   ]
  },
  {
   "cell_type": "markdown",
   "metadata": {},
   "source": [
    "Now let's see if the color has any influence on the price also..."
   ]
  },
  {
   "cell_type": "markdown",
   "metadata": {},
   "source": [
    "## 3) Color\n"
   ]
  },
  {
   "cell_type": "code",
   "execution_count": null,
   "metadata": {},
   "outputs": [],
   "source": [
    "fig = plt.figure(figsize=(16, 8))\n",
    "ax = sns.barplot(x='color', y='price', data=df, palette= 'Blues_d', order= ['D', 'E', 'F', 'G', 'H', 'I', 'J'])"
   ]
  },
  {
   "cell_type": "markdown",
   "metadata": {},
   "source": [
    "Diamonds come in a variety of colors, some of them highly prized (pinks, blues, even yellow). However in a white diamond, the presence of a yellow tint will lower the price of a diamond. The less body color in a white diamond (from D to J), the more true color it will reflect, and thus the greater its value.\n",
    "\n",
    "Therefore, it comes not to be true (at least only comparing color vs price) that **colorless diamonds are more expensive...**"
   ]
  },
  {
   "cell_type": "markdown",
   "metadata": {},
   "source": [
    "Let's check other features versus the price of the diamond, such as cut and clarity."
   ]
  },
  {
   "cell_type": "markdown",
   "metadata": {},
   "source": [
    "## 4) Cut"
   ]
  },
  {
   "cell_type": "code",
   "execution_count": null,
   "metadata": {},
   "outputs": [],
   "source": [
    "fig, ax = plt.subplots(nrows=1, ncols=1, figsize=(16, 8))\n",
    "\n",
    "ax = sns.barplot(x='cut', y='price', data=df)"
   ]
  },
  {
   "cell_type": "markdown",
   "metadata": {},
   "source": [
    "At a first glance, it is logic to think that most expensive diamonds would be the 'Premium' ones."
   ]
  },
  {
   "cell_type": "markdown",
   "metadata": {},
   "source": [
    "## 5) Clarity"
   ]
  },
  {
   "cell_type": "code",
   "execution_count": null,
   "metadata": {},
   "outputs": [],
   "source": [
    "fig, ax = plt.subplots(nrows=1, ncols=1, figsize=(16, 8))\n",
    "\n",
    "ax = sns.boxplot(x='clarity', y='price', data=df)"
   ]
  },
  {
   "cell_type": "markdown",
   "metadata": {},
   "source": [
    "Clarities VS1 and VS2 are affecting in the same way to the final price of diamonds."
   ]
  },
  {
   "cell_type": "markdown",
   "metadata": {},
   "source": [
    "## 6) Table, x, y, z"
   ]
  },
  {
   "cell_type": "markdown",
   "metadata": {},
   "source": [
    "Table, x, y and z are dimensions of diamonds. As per correlation heat map, these variables will directly affect diamond's price."
   ]
  },
  {
   "cell_type": "code",
   "execution_count": null,
   "metadata": {},
   "outputs": [],
   "source": [
    "fig, ax = plt.subplots(nrows=1, ncols=4, sharey=True, figsize=(24,12))\n",
    "sns.scatterplot(ax=ax[0], x='x', y='price', data=df)\n",
    "sns.scatterplot(ax=ax[1], x='y', y='price', data=df)\n",
    "ax[1].set_xlim(0,15)\n",
    "sns.scatterplot(ax=ax[2], x='z', y='price', data=df)\n",
    "sns.scatterplot(ax=ax[3], x='table', y='price', data=df)"
   ]
  },
  {
   "cell_type": "markdown",
   "metadata": {},
   "source": [
    "# Bonus Challenge: Hypothesis Testing"
   ]
  },
  {
   "cell_type": "markdown",
   "metadata": {},
   "source": [
    "## Test 1 - one sample vs constant hypothesis test."
   ]
  },
  {
   "cell_type": "code",
   "execution_count": null,
   "metadata": {},
   "outputs": [],
   "source": [
    "# First we need to import scipy library\n",
    "\n",
    "from scipy.stats import ttest_1samp "
   ]
  },
  {
   "cell_type": "code",
   "execution_count": null,
   "metadata": {},
   "outputs": [],
   "source": [
    "prices = df.price\n",
    "test_results = ttest_1samp(prices, 4000)\n",
    "display(test_results.statistic)\n",
    "display(test_results.pvalue / 2)"
   ]
  },
  {
   "cell_type": "markdown",
   "metadata": {},
   "source": [
    "According to results above, where t(student) is < 0 and probability is < 0.05, mean prices of our samples will be quite different (because of the high t value) and **lower than literature value**."
   ]
  },
  {
   "cell_type": "markdown",
   "metadata": {},
   "source": [
    "## Test 2 - two independent samples."
   ]
  },
  {
   "cell_type": "code",
   "execution_count": null,
   "metadata": {},
   "outputs": [],
   "source": [
    "# Import libraries\n",
    "\n",
    "from scipy.stats import ttest_ind"
   ]
  },
  {
   "cell_type": "code",
   "execution_count": null,
   "metadata": {},
   "outputs": [],
   "source": [
    "# Sub-Test 1: Fair cut + color G vs. Fair cut + color I\n",
    "\n",
    "# First of all we filter our dataset to obtain the two samples we want to compare\n",
    "\n",
    "filter_a1 = df['cut'] == 'Fair'\n",
    "filter_a2 = df['color'] == 'G'\n",
    "filter_b1 = df['cut'] == 'Fair'\n",
    "filter_b2 = df['color'] == 'I'\n",
    "\n",
    "df_filtered_a = df[filter_a1 & filter_a2]\n",
    "df_filtered_b = df[filter_b1 & filter_b2]\n",
    "\n",
    "# Then we run the test\n",
    "\n",
    "display(ttest_ind(df_filtered_a['price'], df_filtered_b['price'], equal_var=True))\n",
    "display(ttest_ind(df_filtered_a['price'], df_filtered_b['price'], equal_var=False))"
   ]
  },
  {
   "cell_type": "code",
   "execution_count": null,
   "metadata": {},
   "outputs": [],
   "source": [
    "# Sub-Test 2: Good cut + color E vs. Good cut + color F\n",
    "\n",
    "# First of all we filter our dataset to obtain the two samples we want to compare\n",
    "\n",
    "filter_a1 = df['cut'] == 'Good'\n",
    "filter_a2 = df['color'] == 'E'\n",
    "filter_b1 = df['cut'] == 'Good'\n",
    "filter_b2 = df['color'] == 'F'\n",
    "\n",
    "df_filtered_a = df[filter_a1 & filter_a2]\n",
    "df_filtered_b = df[filter_b1 & filter_b2]\n",
    "\n",
    "# Then we run the test\n",
    "\n",
    "display(ttest_ind(df_filtered_a['price'], df_filtered_b['price'], equal_var=True))\n",
    "display(ttest_ind(df_filtered_a['price'], df_filtered_b['price'], equal_var=False))"
   ]
  },
  {
   "cell_type": "code",
   "execution_count": null,
   "metadata": {},
   "outputs": [],
   "source": [
    "# Sub-Test 3: Ideal cut + color D vs. Ideal cut + color E\n",
    "\n",
    "# First of all we filter our dataset to obtain the two samples we want to compare\n",
    "\n",
    "filter_a1 = df['cut'] == 'Ideal'\n",
    "filter_a2 = df['color'] == 'D'\n",
    "filter_b1 = df['cut'] == 'Ideal'\n",
    "filter_b2 = df['color'] == 'E'\n",
    "\n",
    "df_filtered_a = df[filter_a1 & filter_a2]\n",
    "df_filtered_b = df[filter_b1 & filter_b2]\n",
    "\n",
    "# Then we run the test\n",
    "\n",
    "display(ttest_ind(df_filtered_a['price'], df_filtered_b['price'], equal_var=True))\n",
    "display(ttest_ind(df_filtered_a['price'], df_filtered_b['price'], equal_var=False))"
   ]
  },
  {
   "cell_type": "code",
   "execution_count": null,
   "metadata": {},
   "outputs": [],
   "source": [
    "# Sub-Test 4: Premium cut + color D vs. Premium cut + color E\n",
    "\n",
    "# First of all we filter our dataset to obtain the two samples we want to compare\n",
    "\n",
    "filter_a1 = df['cut'] == 'Premium'\n",
    "filter_a2 = df['color'] == 'D'\n",
    "filter_b1 = df['cut'] == 'Premium'\n",
    "filter_b2 = df['color'] == 'E'\n",
    "\n",
    "df_filtered_a = df[filter_a1 & filter_a2]\n",
    "df_filtered_b = df[filter_b1 & filter_b2]\n",
    "\n",
    "# Then we run the test\n",
    "\n",
    "display(ttest_ind(df_filtered_a['price'], df_filtered_b['price'], equal_var=True))\n",
    "display(ttest_ind(df_filtered_a['price'], df_filtered_b['price'], equal_var=False))"
   ]
  },
  {
   "cell_type": "code",
   "execution_count": null,
   "metadata": {},
   "outputs": [],
   "source": [
    "# Sub-Test 5: Very Good cut + color I vs. Very Good cut + color J\n",
    "\n",
    "# First of all we filter our dataset to obtain the two samples we want to compare\n",
    "\n",
    "filter_a1 = df['cut'] == 'Fair'\n",
    "filter_a2 = df['color'] == 'G'\n",
    "filter_b1 = df['cut'] == 'Fair'\n",
    "filter_b2 = df['color'] == 'I'\n",
    "\n",
    "df_filtered_a = df[filter_a1 & filter_a2]\n",
    "df_filtered_b = df[filter_b1 & filter_b2]\n",
    "\n",
    "# Then we run the test\n",
    "\n",
    "display(ttest_ind(df_filtered_a['price'], df_filtered_b['price'], equal_var=True))\n",
    "display(ttest_ind(df_filtered_a['price'], df_filtered_b['price'], equal_var=False))"
   ]
  },
  {
   "cell_type": "code",
   "execution_count": null,
   "metadata": {},
   "outputs": [],
   "source": [
    "# Sub-Test 6: All cuts + color D vs. All cuts + color E\n",
    "\n",
    "# First of all we filter our dataset to obtain the two samples we want to compare\n",
    "\n",
    "filter_a = df['color'] == 'D'\n",
    "filter_b = df['color'] == 'E'\n",
    "\n",
    "df_filtered_a = df[filter_a]\n",
    "df_filtered_b = df[filter_b]\n",
    "\n",
    "# Then we run the test\n",
    "\n",
    "display(ttest_ind(df_filtered_a['price'], df_filtered_b['price'], equal_var=True))\n",
    "display(ttest_ind(df_filtered_a['price'], df_filtered_b['price'], equal_var=False))"
   ]
  },
  {
   "cell_type": "markdown",
   "metadata": {},
   "source": [
    "## Conclusion\n",
    "\n",
    "What these results tell us (probability is larger than 0.05) is the null hypothesis is staisfied, that is, the mean of sample 'a' is not significantly different from the mean of sample 'b'.\n",
    "\n",
    "Other conclusion would be that for the same type of cut, the color has no a very large inffluence over the final price."
   ]
  },
  {
   "cell_type": "code",
   "execution_count": null,
   "metadata": {},
   "outputs": [],
   "source": []
  }
 ],
 "metadata": {
  "kernelspec": {
   "display_name": "Python [conda env:ironhack_env]",
   "language": "python",
   "name": "conda-env-ironhack_env-py"
  },
  "language_info": {
   "codemirror_mode": {
    "name": "ipython",
    "version": 3
   },
   "file_extension": ".py",
   "mimetype": "text/x-python",
   "name": "python",
   "nbconvert_exporter": "python",
   "pygments_lexer": "ipython3",
   "version": "3.8.8"
  }
 },
 "nbformat": 4,
 "nbformat_minor": 4
}
